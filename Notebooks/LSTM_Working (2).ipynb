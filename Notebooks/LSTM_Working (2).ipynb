{
  "nbformat": 4,
  "nbformat_minor": 0,
  "metadata": {
    "colab": {
      "provenance": [],
      "gpuType": "T4"
    },
    "kernelspec": {
      "name": "python3",
      "display_name": "Python 3"
    },
    "language_info": {
      "name": "python"
    },
    "accelerator": "GPU"
  },
  "cells": [
    {
      "cell_type": "code",
      "execution_count": null,
      "metadata": {
        "id": "QN4Yyb45uK_B"
      },
      "outputs": [],
      "source": [
        "import numpy as np\n",
        "import pandas as pd\n",
        "import matplotlib.pyplot as plt\n",
        "from sklearn.preprocessing import MinMaxScaler\n",
        "from keras.models import Sequential\n",
        "from keras.layers import Dense, LSTM, Dropout\n",
        "import yfinance as yf\n",
        "\n"
      ]
    },
    {
      "cell_type": "code",
      "source": [
        "start = '2019-01-01'\n",
        "end = '2023-12-31'"
      ],
      "metadata": {
        "id": "_nilPCQIueRe"
      },
      "execution_count": null,
      "outputs": []
    },
    {
      "cell_type": "code",
      "source": [
        "test_start = '2024-01-01'\n",
        "test_end = '2024-03-01'"
      ],
      "metadata": {
        "id": "0T-F9mnyYlFG"
      },
      "execution_count": null,
      "outputs": []
    },
    {
      "cell_type": "code",
      "source": [
        "#give the number of days to forecast\n",
        "forecast_days = 20"
      ],
      "metadata": {
        "id": "su0pNoLJYpud"
      },
      "execution_count": null,
      "outputs": []
    },
    {
      "cell_type": "code",
      "source": [
        "ticker = 'SBIN.NS'"
      ],
      "metadata": {
        "id": "q6dx5fTVB4f2"
      },
      "execution_count": null,
      "outputs": []
    },
    {
      "cell_type": "code",
      "source": [
        "# Load your historical data\n",
        "# Replace 'your_data.csv' with your actual file name\n",
        "data = yf.download(ticker, start = start, end = end)\n",
        "\n"
      ],
      "metadata": {
        "colab": {
          "base_uri": "https://localhost:8080/"
        },
        "id": "PDbm4QqwuPqK",
        "outputId": "13d70648-b0e1-4342-bbb5-0b076fa59e3b"
      },
      "execution_count": null,
      "outputs": [
        {
          "output_type": "stream",
          "name": "stderr",
          "text": [
            "\r[*********************100%***********************]  1 of 1 completed\n"
          ]
        }
      ]
    },
    {
      "cell_type": "code",
      "source": [],
      "metadata": {
        "id": "rHKmPcqXlyTf"
      },
      "execution_count": null,
      "outputs": []
    },
    {
      "cell_type": "code",
      "source": [
        "data.fillna(0, inplace=True)"
      ],
      "metadata": {
        "id": "UT4ffT7Fl1Tc"
      },
      "execution_count": null,
      "outputs": []
    },
    {
      "cell_type": "code",
      "source": [],
      "metadata": {
        "id": "goKaA-9cl4sL"
      },
      "execution_count": null,
      "outputs": []
    },
    {
      "cell_type": "code",
      "source": [
        "\n",
        "# Preprocess the data\n",
        "scaler = MinMaxScaler(feature_range=(0, 1))\n",
        "scaled_data = scaler.fit_transform(data['Close'].values.reshape(-1, 1))\n",
        "\n",
        "# Create the training data\n",
        "#train_data = scaled_data[:-forecast_days]  # Use all but the last 20 days for training\n",
        "train_data = scaled_data\n",
        "X_train, y_train = [], []\n",
        "for i in range(60, len(train_data)):\n",
        "    X_train.append(train_data[i-60:i, 0])\n",
        "    y_train.append(train_data[i, 0])\n",
        "\n",
        "X_train, y_train = np.array(X_train), np.array(y_train)\n",
        "X_train = np.reshape(X_train, (X_train.shape[0], X_train.shape[1], 1))\n",
        "\n",
        "# Create the LSTM model\n",
        "model = Sequential()\n",
        "model.add(LSTM(units=50, return_sequences=True, input_shape=(X_train.shape[1], 1)))\n",
        "model.add(Dropout(0.2))\n",
        "model.add(LSTM(units=50, return_sequences=False))\n",
        "model.add(Dropout(0.2))\n",
        "model.add(Dense(units=1))  # Predicting the next price\n",
        "\n",
        "# Compile and train the model\n",
        "model.compile(optimizer='adam', loss='mean_squared_error')\n",
        "model.fit(X_train, y_train, epochs=10, batch_size=32)\n",
        "\n",
        "# Make predictions for the next 20 days\n",
        "inputs = scaled_data[len(scaled_data) - len(data) - 60:].reshape(-1, 1)  # Prepare the input for the last 60 days\n",
        "inputs = np.concatenate((inputs, scaled_data[-forecast_days:]))  # Add the last 20 days to the inputs\n",
        "\n",
        "X_test = []\n",
        "for i in range(60, len(inputs)):\n",
        "    X_test.append(inputs[i-60:i, 0])\n",
        "\n",
        "X_test = np.array(X_test)\n",
        "X_test = np.reshape(X_test, (X_test.shape[0], X_test.shape[1], 1))\n",
        "\n",
        "predicted_prices = model.predict(X_test)\n",
        "predicted_prices = scaler.inverse_transform(predicted_prices)  # Reverse the scaling\n",
        "\n",
        "compare_data = yf.download(ticker, start = test_start, end = test_end)\n",
        "comp_data = compare_data['Close'].iloc[:forecast_days]\n",
        "predicted_dates = comp_data.index[:forecast_days]\n",
        "\n",
        "# Plotting the results\n",
        "plt.figure(figsize=(14, 5))\n",
        "plt.plot(data.index[-60:], data['Close'].values[-60:], color='blue', label='Historical Prices')\n",
        "#predicted_dates = pd.date_range(start=data.index[-1] + pd.Timedelta(days=1), periods=forecast_days)\n",
        "#plt.plot(predicted_dates,comp_data, color = 'green', label = 'Actual Prices')\n",
        "plt.plot(predicted_dates, predicted_prices, color='red', label='Predicted Prices')\n",
        "plt.title(f'Stock Price Prediction: {ticker}')\n",
        "plt.xlabel('Date')\n",
        "plt.ylabel('Stock Price')\n",
        "plt.legend()\n",
        "plt.savefig(f'/content/drive/MyDrive/Ph.D/Datasets/LSTM/predictions/{ticker}.png', format='png', dpi=300)  # Adjust dpi for quality\n"
      ],
      "metadata": {
        "colab": {
          "base_uri": "https://localhost:8080/",
          "height": 923
        },
        "collapsed": true,
        "id": "I9vtI66kuSyu",
        "outputId": "22d86626-4df0-43ca-d0a1-3a7ae5f38a9f"
      },
      "execution_count": null,
      "outputs": [
        {
          "output_type": "stream",
          "name": "stderr",
          "text": [
            "/usr/local/lib/python3.10/dist-packages/keras/src/layers/rnn/rnn.py:204: UserWarning: Do not pass an `input_shape`/`input_dim` argument to a layer. When using Sequential models, prefer using an `Input(shape)` object as the first layer in the model instead.\n",
            "  super().__init__(**kwargs)\n"
          ]
        },
        {
          "output_type": "stream",
          "name": "stdout",
          "text": [
            "Epoch 1/10\n",
            "\u001b[1m37/37\u001b[0m \u001b[32m━━━━━━━━━━━━━━━━━━━━\u001b[0m\u001b[37m\u001b[0m \u001b[1m5s\u001b[0m 12ms/step - loss: 0.1358\n",
            "Epoch 2/10\n",
            "\u001b[1m37/37\u001b[0m \u001b[32m━━━━━━━━━━━━━━━━━━━━\u001b[0m\u001b[37m\u001b[0m \u001b[1m0s\u001b[0m 11ms/step - loss: 0.0070\n",
            "Epoch 3/10\n",
            "\u001b[1m37/37\u001b[0m \u001b[32m━━━━━━━━━━━━━━━━━━━━\u001b[0m\u001b[37m\u001b[0m \u001b[1m1s\u001b[0m 11ms/step - loss: 0.0053\n",
            "Epoch 4/10\n",
            "\u001b[1m37/37\u001b[0m \u001b[32m━━━━━━━━━━━━━━━━━━━━\u001b[0m\u001b[37m\u001b[0m \u001b[1m1s\u001b[0m 12ms/step - loss: 0.0047\n",
            "Epoch 5/10\n",
            "\u001b[1m37/37\u001b[0m \u001b[32m━━━━━━━━━━━━━━━━━━━━\u001b[0m\u001b[37m\u001b[0m \u001b[1m0s\u001b[0m 12ms/step - loss: 0.0047\n",
            "Epoch 6/10\n",
            "\u001b[1m37/37\u001b[0m \u001b[32m━━━━━━━━━━━━━━━━━━━━\u001b[0m\u001b[37m\u001b[0m \u001b[1m1s\u001b[0m 9ms/step - loss: 0.0044\n",
            "Epoch 7/10\n",
            "\u001b[1m37/37\u001b[0m \u001b[32m━━━━━━━━━━━━━━━━━━━━\u001b[0m\u001b[37m\u001b[0m \u001b[1m1s\u001b[0m 8ms/step - loss: 0.0041\n",
            "Epoch 8/10\n",
            "\u001b[1m37/37\u001b[0m \u001b[32m━━━━━━━━━━━━━━━━━━━━\u001b[0m\u001b[37m\u001b[0m \u001b[1m0s\u001b[0m 8ms/step - loss: 0.0044\n",
            "Epoch 9/10\n",
            "\u001b[1m37/37\u001b[0m \u001b[32m━━━━━━━━━━━━━━━━━━━━\u001b[0m\u001b[37m\u001b[0m \u001b[1m1s\u001b[0m 9ms/step - loss: 0.0037\n",
            "Epoch 10/10\n",
            "\u001b[1m37/37\u001b[0m \u001b[32m━━━━━━━━━━━━━━━━━━━━\u001b[0m\u001b[37m\u001b[0m \u001b[1m0s\u001b[0m 7ms/step - loss: 0.0039\n",
            "\u001b[1m1/1\u001b[0m \u001b[32m━━━━━━━━━━━━━━━━━━━━\u001b[0m\u001b[37m\u001b[0m \u001b[1m0s\u001b[0m 147ms/step\n"
          ]
        },
        {
          "output_type": "stream",
          "name": "stderr",
          "text": [
            "\r[*********************100%***********************]  1 of 1 completed\n"
          ]
        },
        {
          "output_type": "display_data",
          "data": {
            "text/plain": [
              "<Figure size 1400x500 with 1 Axes>"
            ],
            "image/png": "[encoded data removed]"
          },
          "metadata": {}
        }
      ]
    },
    {
      "cell_type": "code",
      "source": [
        "predicted_prices"
      ],
      "metadata": {
        "colab": {
          "base_uri": "https://localhost:8080/"
        },
        "id": "mnquaRWbPOoc",
        "outputId": "10b16a69-c7b8-46c0-d979-6e3ba0f39f88"
      },
      "execution_count": null,
      "outputs": [
        {
          "output_type": "execute_result",
          "data": {
            "text/plain": [
              "array([[619.34894],\n",
              "       [616.1694 ],\n",
              "       [611.8281 ],\n",
              "       [607.56055],\n",
              "       [603.5312 ],\n",
              "       [600.0824 ],\n",
              "       [597.35144],\n",
              "       [595.2628 ],\n",
              "       [593.6299 ],\n",
              "       [592.8235 ],\n",
              "       [592.8007 ],\n",
              "       [594.66534],\n",
              "       [597.60675],\n",
              "       [601.50244],\n",
              "       [604.72876],\n",
              "       [607.81384],\n",
              "       [610.1874 ],\n",
              "       [612.0468 ],\n",
              "       [614.0286 ],\n",
              "       [616.08594]], dtype=float32)"
            ]
          },
          "metadata": {},
          "execution_count": 28
        }
      ]
    },
    {
      "cell_type": "code",
      "source": [
        "# compare_data = yf.download(ticker, start = test_start, end = test_end)"
      ],
      "metadata": {
        "id": "ohVKmTGpwmc3"
      },
      "execution_count": null,
      "outputs": []
    },
    {
      "cell_type": "code",
      "source": [
        "# comp_data = compare_data['Close'].iloc[:forecast_days]"
      ],
      "metadata": {
        "id": "mGsb29bgxASu"
      },
      "execution_count": null,
      "outputs": []
    },
    {
      "cell_type": "code",
      "source": [
        "# predicted_dates = comp_data.index[:forecast_days]"
      ],
      "metadata": {
        "id": "NnnYT_-hx0jO"
      },
      "execution_count": null,
      "outputs": []
    },
    {
      "cell_type": "code",
      "source": [
        "plt.figure(figsize=(14, 5))\n",
        "plt.plot(comp_data.index, comp_data, color='blue', label='Actual Prices')\n",
        "# predicted_dates = pd.date_range(start=data.index[-1] + pd.Timedelta(days=1), periods=20)\n",
        "# predicted_dates = pd.date_range(start=comp_data.index[0]+pd.Timedelta(days=1), periods=20)\n",
        "# predicted_date = comp_data.index[:19]\n",
        "plt.plot(predicted_dates, predicted_prices, color='red', label='Predicted Prices')\n",
        "plt.title(f'Prediction Comparison: {ticker}')\n",
        "plt.xlabel('Date')\n",
        "plt.ylabel('Stock Price')\n",
        "plt.legend()\n",
        "plt.savefig(f'/content/drive/MyDrive/Ph.D/Datasets/LSTM/comparison/{ticker}.png', format='png', dpi=300)  # Adjust dpi for quality\n",
        "plt.show()"
      ],
      "metadata": {
        "colab": {
          "base_uri": "https://localhost:8080/",
          "height": 487
        },
        "id": "Hee5FkQPxLbY",
        "outputId": "7e982090-c0d2-404b-b562-03be67059628"
      },
      "execution_count": null,
      "outputs": [
        {
          "output_type": "display_data",
          "data": {
            "text/plain": [
              "<Figure size 1400x500 with 1 Axes>"
            ],
            "image/png": "[encoded data removed]"
          },
          "metadata": {}
        }
      ]
    },
    {
      "cell_type": "code",
      "source": [
        "final_data = comp_data"
      ],
      "metadata": {
        "id": "gjf-wrZuPHf1"
      },
      "execution_count": null,
      "outputs": []
    },
    {
      "cell_type": "code",
      "source": [
        "final_data = pd.DataFrame(final_data)"
      ],
      "metadata": {
        "id": "D0UTZGbAPVrt"
      },
      "execution_count": null,
      "outputs": []
    },
    {
      "cell_type": "code",
      "source": [
        "final_data['Predicted'] = predicted_prices"
      ],
      "metadata": {
        "id": "1kvOpFWDPcgw"
      },
      "execution_count": null,
      "outputs": []
    },
    {
      "cell_type": "code",
      "source": [
        "# prompt: change the name of 'Predicted\" column in final_data to 'Forecast'\n",
        "\n",
        "final_data = final_data.rename(columns={'Predicted': 'Forecast'})\n"
      ],
      "metadata": {
        "id": "vQxF7GSkORQX"
      },
      "execution_count": null,
      "outputs": []
    },
    {
      "cell_type": "code",
      "source": [
        "final_data['Returns'] = final_data['Forecast'].diff()"
      ],
      "metadata": {
        "id": "FZXRUCq2OgXW"
      },
      "execution_count": null,
      "outputs": []
    },
    {
      "cell_type": "code",
      "source": [
        "final_data.iloc[0, final_data.columns.get_loc('Returns')] = final_data.iloc[0,final_data.columns.get_loc('Close')]"
      ],
      "metadata": {
        "id": "GgKyU0duPJQD"
      },
      "execution_count": null,
      "outputs": []
    },
    {
      "cell_type": "code",
      "source": [
        "# prompt: create a new column named 'Predicted' in final_data, which should contain the cumulative sum of 'Returns' column\n",
        "\n",
        "final_data['Predicted'] = final_data['Returns'].cumsum()\n"
      ],
      "metadata": {
        "id": "tlp-YMdmQBHV"
      },
      "execution_count": null,
      "outputs": []
    },
    {
      "cell_type": "code",
      "source": [
        "final_data"
      ],
      "metadata": {
        "id": "E9Mr-zY9QdFO",
        "outputId": "f2a1aff2-994c-4fd0-e899-5f4776867bb0",
        "colab": {
          "base_uri": "https://localhost:8080/",
          "height": 708
        }
      },
      "execution_count": null,
      "outputs": [
        {
          "output_type": "execute_result",
          "data": {
            "text/plain": [
              "                 Close    Forecast     Returns   Predicted\n",
              "Date                                                      \n",
              "2024-01-01  641.349976  619.348938  641.349976  641.349976\n",
              "2024-01-02  639.450012  616.169373   -3.179565  638.170410\n",
              "2024-01-03  643.450012  611.828125   -4.341248  633.829163\n",
              "2024-01-04  642.750000  607.560547   -4.267578  629.561584\n",
              "2024-01-05  641.950012  603.531189   -4.029358  625.532227\n",
              "2024-01-08  627.000000  600.082397   -3.448792  622.083435\n",
              "2024-01-09  625.400024  597.351440   -2.730957  619.352478\n",
              "2024-01-10  621.750000  595.262817   -2.088623  617.263855\n",
              "2024-01-11  620.200012  593.629883   -1.632935  615.630920\n",
              "2024-01-12  633.599976  592.823486   -0.806396  614.824524\n",
              "2024-01-15  640.099976  592.800720   -0.022766  614.801758\n",
              "2024-01-16  636.900024  594.665344    1.864624  616.666382\n",
              "2024-01-17  626.000000  597.606750    2.941406  619.607788\n",
              "2024-01-18  628.299988  601.502441    3.895691  623.503479\n",
              "2024-01-19  627.750000  604.728760    3.226318  626.729797\n",
              "2024-01-23  605.099976  607.813843    3.085083  629.814880\n",
              "2024-01-24  618.299988  610.187378    2.373535  632.188416\n",
              "2024-01-25  612.750000  612.046814    1.859436  634.047852\n",
              "2024-01-29  622.950012  614.028625    1.981812  636.029663\n",
              "2024-01-30  626.750000  616.085938    2.057312  638.086975"
            ],
            "text/html": [
              "\n",
              "  <div id=\"df-71f540cc-2bdf-4271-86bf-5ecb147035ee\" class=\"colab-df-container\">\n",
              "    <div>\n",
              "<style scoped>\n",
              "    .dataframe tbody tr th:only-of-type {\n",
              "        vertical-align: middle;\n",
              "    }\n",
              "\n",
              "    .dataframe tbody tr th {\n",
              "        vertical-align: top;\n",
              "    }\n",
              "\n",
              "    .dataframe thead th {\n",
              "        text-align: right;\n",
              "    }\n",
              "</style>\n",
              "<table border=\"1\" class=\"dataframe\">\n",
              "  <thead>\n",
              "    <tr style=\"text-align: right;\">\n",
              "      <th></th>\n",
              "      <th>Close</th>\n",
              "      <th>Forecast</th>\n",
              "      <th>Returns</th>\n",
              "      <th>Predicted</th>\n",
              "    </tr>\n",
              "    <tr>\n",
              "      <th>Date</th>\n",
              "      <th></th>\n",
              "      <th></th>\n",
              "      <th></th>\n",
              "      <th></th>\n",
              "    </tr>\n",
              "  </thead>\n",
              "  <tbody>\n",
              "    <tr>\n",
              "      <th>2024-01-01</th>\n",
              "      <td>641.349976</td>\n",
              "      <td>619.348938</td>\n",
              "      <td>641.349976</td>\n",
              "      <td>641.349976</td>\n",
              "    </tr>\n",
              "    <tr>\n",
              "      <th>2024-01-02</th>\n",
              "      <td>639.450012</td>\n",
              "      <td>616.169373</td>\n",
              "      <td>-3.179565</td>\n",
              "      <td>638.170410</td>\n",
              "    </tr>\n",
              "    <tr>\n",
              "      <th>2024-01-03</th>\n",
              "      <td>643.450012</td>\n",
              "      <td>611.828125</td>\n",
              "      <td>-4.341248</td>\n",
              "      <td>633.829163</td>\n",
              "    </tr>\n",
              "    <tr>\n",
              "      <th>2024-01-04</th>\n",
              "      <td>642.750000</td>\n",
              "      <td>607.560547</td>\n",
              "      <td>-4.267578</td>\n",
              "      <td>629.561584</td>\n",
              "    </tr>\n",
              "    <tr>\n",
              "      <th>2024-01-05</th>\n",
              "      <td>641.950012</td>\n",
              "      <td>603.531189</td>\n",
              "      <td>-4.029358</td>\n",
              "      <td>625.532227</td>\n",
              "    </tr>\n",
              "    <tr>\n",
              "      <th>2024-01-08</th>\n",
              "      <td>627.000000</td>\n",
              "      <td>600.082397</td>\n",
              "      <td>-3.448792</td>\n",
              "      <td>622.083435</td>\n",
              "    </tr>\n",
              "    <tr>\n",
              "      <th>2024-01-09</th>\n",
              "      <td>625.400024</td>\n",
              "      <td>597.351440</td>\n",
              "      <td>-2.730957</td>\n",
              "      <td>619.352478</td>\n",
              "    </tr>\n",
              "    <tr>\n",
              "      <th>2024-01-10</th>\n",
              "      <td>621.750000</td>\n",
              "      <td>595.262817</td>\n",
              "      <td>-2.088623</td>\n",
              "      <td>617.263855</td>\n",
              "    </tr>\n",
              "    <tr>\n",
              "      <th>2024-01-11</th>\n",
              "      <td>620.200012</td>\n",
              "      <td>593.629883</td>\n",
              "      <td>-1.632935</td>\n",
              "      <td>615.630920</td>\n",
              "    </tr>\n",
              "    <tr>\n",
              "      <th>2024-01-12</th>\n",
              "      <td>633.599976</td>\n",
              "      <td>592.823486</td>\n",
              "      <td>-0.806396</td>\n",
              "      <td>614.824524</td>\n",
              "    </tr>\n",
              "    <tr>\n",
              "      <th>2024-01-15</th>\n",
              "      <td>640.099976</td>\n",
              "      <td>592.800720</td>\n",
              "      <td>-0.022766</td>\n",
              "      <td>614.801758</td>\n",
              "    </tr>\n",
              "    <tr>\n",
              "      <th>2024-01-16</th>\n",
              "      <td>636.900024</td>\n",
              "      <td>594.665344</td>\n",
              "      <td>1.864624</td>\n",
              "      <td>616.666382</td>\n",
              "    </tr>\n",
              "    <tr>\n",
              "      <th>2024-01-17</th>\n",
              "      <td>626.000000</td>\n",
              "      <td>597.606750</td>\n",
              "      <td>2.941406</td>\n",
              "      <td>619.607788</td>\n",
              "    </tr>\n",
              "    <tr>\n",
              "      <th>2024-01-18</th>\n",
              "      <td>628.299988</td>\n",
              "      <td>601.502441</td>\n",
              "      <td>3.895691</td>\n",
              "      <td>623.503479</td>\n",
              "    </tr>\n",
              "    <tr>\n",
              "      <th>2024-01-19</th>\n",
              "      <td>627.750000</td>\n",
              "      <td>604.728760</td>\n",
              "      <td>3.226318</td>\n",
              "      <td>626.729797</td>\n",
              "    </tr>\n",
              "    <tr>\n",
              "      <th>2024-01-23</th>\n",
              "      <td>605.099976</td>\n",
              "      <td>607.813843</td>\n",
              "      <td>3.085083</td>\n",
              "      <td>629.814880</td>\n",
              "    </tr>\n",
              "    <tr>\n",
              "      <th>2024-01-24</th>\n",
              "      <td>618.299988</td>\n",
              "      <td>610.187378</td>\n",
              "      <td>2.373535</td>\n",
              "      <td>632.188416</td>\n",
              "    </tr>\n",
              "    <tr>\n",
              "      <th>2024-01-25</th>\n",
              "      <td>612.750000</td>\n",
              "      <td>612.046814</td>\n",
              "      <td>1.859436</td>\n",
              "      <td>634.047852</td>\n",
              "    </tr>\n",
              "    <tr>\n",
              "      <th>2024-01-29</th>\n",
              "      <td>622.950012</td>\n",
              "      <td>614.028625</td>\n",
              "      <td>1.981812</td>\n",
              "      <td>636.029663</td>\n",
              "    </tr>\n",
              "    <tr>\n",
              "      <th>2024-01-30</th>\n",
              "      <td>626.750000</td>\n",
              "      <td>616.085938</td>\n",
              "      <td>2.057312</td>\n",
              "      <td>638.086975</td>\n",
              "    </tr>\n",
              "  </tbody>\n",
              "</table>\n",
              "</div>\n",
              "    <div class=\"colab-df-buttons\">\n",
              "\n",
              "  <div class=\"colab-df-container\">\n",
              "    <button class=\"colab-df-convert\" onclick=\"convertToInteractive('df-71f540cc-2bdf-4271-86bf-5ecb147035ee')\"\n",
              "            title=\"Convert this dataframe to an interactive table.\"\n",
              "            style=\"display:none;\">\n",
              "\n",
              "  <svg xmlns=\"http://www.w3.org/2000/svg\" height=\"24px\" viewBox=\"0 -960 960 960\">\n",
              "    <path d=\"M120-120v-720h720v720H120Zm60-500h600v-160H180v160Zm220 220h160v-160H400v160Zm0 220h160v-160H400v160ZM180-400h160v-160H180v160Zm440 0h160v-160H620v160ZM180-180h160v-160H180v160Zm440 0h160v-160H620v160Z\"/>\n",
              "  </svg>\n",
              "    </button>\n",
              "\n",
              "  <style>\n",
              "    .colab-df-container {\n",
              "      display:flex;\n",
              "      gap: 12px;\n",
              "    }\n",
              "\n",
              "    .colab-df-convert {\n",
              "      background-color: #E8F0FE;\n",
              "      border: none;\n",
              "      border-radius: 50%;\n",
              "      cursor: pointer;\n",
              "      display: none;\n",
              "      fill: #1967D2;\n",
              "      height: 32px;\n",
              "      padding: 0 0 0 0;\n",
              "      width: 32px;\n",
              "    }\n",
              "\n",
              "    .colab-df-convert:hover {\n",
              "      background-color: #E2EBFA;\n",
              "      box-shadow: 0px 1px 2px rgba(60, 64, 67, 0.3), 0px 1px 3px 1px rgba(60, 64, 67, 0.15);\n",
              "      fill: #174EA6;\n",
              "    }\n",
              "\n",
              "    .colab-df-buttons div {\n",
              "      margin-bottom: 4px;\n",
              "    }\n",
              "\n",
              "    [theme=dark] .colab-df-convert {\n",
              "      background-color: #3B4455;\n",
              "      fill: #D2E3FC;\n",
              "    }\n",
              "\n",
              "    [theme=dark] .colab-df-convert:hover {\n",
              "      background-color: #434B5C;\n",
              "      box-shadow: 0px 1px 3px 1px rgba(0, 0, 0, 0.15);\n",
              "      filter: drop-shadow(0px 1px 2px rgba(0, 0, 0, 0.3));\n",
              "      fill: #FFFFFF;\n",
              "    }\n",
              "  </style>\n",
              "\n",
              "    <script>\n",
              "      const buttonEl =\n",
              "        document.querySelector('#df-71f540cc-2bdf-4271-86bf-5ecb147035ee button.colab-df-convert');\n",
              "      buttonEl.style.display =\n",
              "        google.colab.kernel.accessAllowed ? 'block' : 'none';\n",
              "\n",
              "      async function convertToInteractive(key) {\n",
              "        const element = document.querySelector('#df-71f540cc-2bdf-4271-86bf-5ecb147035ee');\n",
              "        const dataTable =\n",
              "          await google.colab.kernel.invokeFunction('convertToInteractive',\n",
              "                                                    [key], {});\n",
              "        if (!dataTable) return;\n",
              "\n",
              "        const docLinkHtml = 'Like what you see? Visit the ' +\n",
              "          '<a target=\"_blank\" href=https://colab.research.google.com/notebooks/data_table.ipynb>data table notebook</a>'\n",
              "          + ' to learn more about interactive tables.';\n",
              "        element.innerHTML = '';\n",
              "        dataTable['output_type'] = 'display_data';\n",
              "        await google.colab.output.renderOutput(dataTable, element);\n",
              "        const docLink = document.createElement('div');\n",
              "        docLink.innerHTML = docLinkHtml;\n",
              "        element.appendChild(docLink);\n",
              "      }\n",
              "    </script>\n",
              "  </div>\n",
              "\n",
              "\n",
              "<div id=\"df-928f2982-e6df-457b-999d-5e885d9a4670\">\n",
              "  <button class=\"colab-df-quickchart\" onclick=\"quickchart('df-928f2982-e6df-457b-999d-5e885d9a4670')\"\n",
              "            title=\"Suggest charts\"\n",
              "            style=\"display:none;\">\n",
              "\n",
              "<svg xmlns=\"http://www.w3.org/2000/svg\" height=\"24px\"viewBox=\"0 0 24 24\"\n",
              "     width=\"24px\">\n",
              "    <g>\n",
              "        <path d=\"M19 3H5c-1.1 0-2 .9-2 2v14c0 1.1.9 2 2 2h14c1.1 0 2-.9 2-2V5c0-1.1-.9-2-2-2zM9 17H7v-7h2v7zm4 0h-2V7h2v10zm4 0h-2v-4h2v4z\"/>\n",
              "    </g>\n",
              "</svg>\n",
              "  </button>\n",
              "\n",
              "<style>\n",
              "  .colab-df-quickchart {\n",
              "      --bg-color: #E8F0FE;\n",
              "      --fill-color: #1967D2;\n",
              "      --hover-bg-color: #E2EBFA;\n",
              "      --hover-fill-color: #174EA6;\n",
              "      --disabled-fill-color: #AAA;\n",
              "      --disabled-bg-color: #DDD;\n",
              "  }\n",
              "\n",
              "  [theme=dark] .colab-df-quickchart {\n",
              "      --bg-color: #3B4455;\n",
              "      --fill-color: #D2E3FC;\n",
              "      --hover-bg-color: #434B5C;\n",
              "      --hover-fill-color: #FFFFFF;\n",
              "      --disabled-bg-color: #3B4455;\n",
              "      --disabled-fill-color: #666;\n",
              "  }\n",
              "\n",
              "  .colab-df-quickchart {\n",
              "    background-color: var(--bg-color);\n",
              "    border: none;\n",
              "    border-radius: 50%;\n",
              "    cursor: pointer;\n",
              "    display: none;\n",
              "    fill: var(--fill-color);\n",
              "    height: 32px;\n",
              "    padding: 0;\n",
              "    width: 32px;\n",
              "  }\n",
              "\n",
              "  .colab-df-quickchart:hover {\n",
              "    background-color: var(--hover-bg-color);\n",
              "    box-shadow: 0 1px 2px rgba(60, 64, 67, 0.3), 0 1px 3px 1px rgba(60, 64, 67, 0.15);\n",
              "    fill: var(--button-hover-fill-color);\n",
              "  }\n",
              "\n",
              "  .colab-df-quickchart-complete:disabled,\n",
              "  .colab-df-quickchart-complete:disabled:hover {\n",
              "    background-color: var(--disabled-bg-color);\n",
              "    fill: var(--disabled-fill-color);\n",
              "    box-shadow: none;\n",
              "  }\n",
              "\n",
              "  .colab-df-spinner {\n",
              "    border: 2px solid var(--fill-color);\n",
              "    border-color: transparent;\n",
              "    border-bottom-color: var(--fill-color);\n",
              "    animation:\n",
              "      spin 1s steps(1) infinite;\n",
              "  }\n",
              "\n",
              "  @keyframes spin {\n",
              "    0% {\n",
              "      border-color: transparent;\n",
              "      border-bottom-color: var(--fill-color);\n",
              "      border-left-color: var(--fill-color);\n",
              "    }\n",
              "    20% {\n",
              "      border-color: transparent;\n",
              "      border-left-color: var(--fill-color);\n",
              "      border-top-color: var(--fill-color);\n",
              "    }\n",
              "    30% {\n",
              "      border-color: transparent;\n",
              "      border-left-color: var(--fill-color);\n",
              "      border-top-color: var(--fill-color);\n",
              "      border-right-color: var(--fill-color);\n",
              "    }\n",
              "    40% {\n",
              "      border-color: transparent;\n",
              "      border-right-color: var(--fill-color);\n",
              "      border-top-color: var(--fill-color);\n",
              "    }\n",
              "    60% {\n",
              "      border-color: transparent;\n",
              "      border-right-color: var(--fill-color);\n",
              "    }\n",
              "    80% {\n",
              "      border-color: transparent;\n",
              "      border-right-color: var(--fill-color);\n",
              "      border-bottom-color: var(--fill-color);\n",
              "    }\n",
              "    90% {\n",
              "      border-color: transparent;\n",
              "      border-bottom-color: var(--fill-color);\n",
              "    }\n",
              "  }\n",
              "</style>\n",
              "\n",
              "  <script>\n",
              "    async function quickchart(key) {\n",
              "      const quickchartButtonEl =\n",
              "        document.querySelector('#' + key + ' button');\n",
              "      quickchartButtonEl.disabled = true;  // To prevent multiple clicks.\n",
              "      quickchartButtonEl.classList.add('colab-df-spinner');\n",
              "      try {\n",
              "        const charts = await google.colab.kernel.invokeFunction(\n",
              "            'suggestCharts', [key], {});\n",
              "      } catch (error) {\n",
              "        console.error('Error during call to suggestCharts:', error);\n",
              "      }\n",
              "      quickchartButtonEl.classList.remove('colab-df-spinner');\n",
              "      quickchartButtonEl.classList.add('colab-df-quickchart-complete');\n",
              "    }\n",
              "    (() => {\n",
              "      let quickchartButtonEl =\n",
              "        document.querySelector('#df-928f2982-e6df-457b-999d-5e885d9a4670 button');\n",
              "      quickchartButtonEl.style.display =\n",
              "        google.colab.kernel.accessAllowed ? 'block' : 'none';\n",
              "    })();\n",
              "  </script>\n",
              "</div>\n",
              "\n",
              "  <div id=\"id_2bd0dce2-4175-4043-a708-7afaf11aa3f1\">\n",
              "    <style>\n",
              "      .colab-df-generate {\n",
              "        background-color: #E8F0FE;\n",
              "        border: none;\n",
              "        border-radius: 50%;\n",
              "        cursor: pointer;\n",
              "        display: none;\n",
              "        fill: #1967D2;\n",
              "        height: 32px;\n",
              "        padding: 0 0 0 0;\n",
              "        width: 32px;\n",
              "      }\n",
              "\n",
              "      .colab-df-generate:hover {\n",
              "        background-color: #E2EBFA;\n",
              "        box-shadow: 0px 1px 2px rgba(60, 64, 67, 0.3), 0px 1px 3px 1px rgba(60, 64, 67, 0.15);\n",
              "        fill: #174EA6;\n",
              "      }\n",
              "\n",
              "      [theme=dark] .colab-df-generate {\n",
              "        background-color: #3B4455;\n",
              "        fill: #D2E3FC;\n",
              "      }\n",
              "\n",
              "      [theme=dark] .colab-df-generate:hover {\n",
              "        background-color: #434B5C;\n",
              "        box-shadow: 0px 1px 3px 1px rgba(0, 0, 0, 0.15);\n",
              "        filter: drop-shadow(0px 1px 2px rgba(0, 0, 0, 0.3));\n",
              "        fill: #FFFFFF;\n",
              "      }\n",
              "    </style>\n",
              "    <button class=\"colab-df-generate\" onclick=\"generateWithVariable('final_data')\"\n",
              "            title=\"Generate code using this dataframe.\"\n",
              "            style=\"display:none;\">\n",
              "\n",
              "  <svg xmlns=\"http://www.w3.org/2000/svg\" height=\"24px\"viewBox=\"0 0 24 24\"\n",
              "       width=\"24px\">\n",
              "    <path d=\"M7,19H8.4L18.45,9,17,7.55,7,17.6ZM5,21V16.75L18.45,3.32a2,2,0,0,1,2.83,0l1.4,1.43a1.91,1.91,0,0,1,.58,1.4,1.91,1.91,0,0,1-.58,1.4L9.25,21ZM18.45,9,17,7.55Zm-12,3A5.31,5.31,0,0,0,4.9,8.1,5.31,5.31,0,0,0,1,6.5,5.31,5.31,0,0,0,4.9,4.9,5.31,5.31,0,0,0,6.5,1,5.31,5.31,0,0,0,8.1,4.9,5.31,5.31,0,0,0,12,6.5,5.46,5.46,0,0,0,6.5,12Z\"/>\n",
              "  </svg>\n",
              "    </button>\n",
              "    <script>\n",
              "      (() => {\n",
              "      const buttonEl =\n",
              "        document.querySelector('#id_2bd0dce2-4175-4043-a708-7afaf11aa3f1 button.colab-df-generate');\n",
              "      buttonEl.style.display =\n",
              "        google.colab.kernel.accessAllowed ? 'block' : 'none';\n",
              "\n",
              "      buttonEl.onclick = () => {\n",
              "        google.colab.notebook.generateWithVariable('final_data');\n",
              "      }\n",
              "      })();\n",
              "    </script>\n",
              "  </div>\n",
              "\n",
              "    </div>\n",
              "  </div>\n"
            ],
            "application/vnd.google.colaboratory.intrinsic+json": {
              "type": "dataframe",
              "variable_name": "final_data",
              "summary": "{\n  \"name\": \"final_data\",\n  \"rows\": 20,\n  \"fields\": [\n    {\n      \"column\": \"Date\",\n      \"properties\": {\n        \"dtype\": \"date\",\n        \"min\": \"2024-01-01 00:00:00\",\n        \"max\": \"2024-01-30 00:00:00\",\n        \"num_unique_values\": 20,\n        \"samples\": [\n          \"2024-01-01 00:00:00\",\n          \"2024-01-25 00:00:00\",\n          \"2024-01-23 00:00:00\"\n        ],\n        \"semantic_type\": \"\",\n        \"description\": \"\"\n      }\n    },\n    {\n      \"column\": \"Close\",\n      \"properties\": {\n        \"dtype\": \"number\",\n        \"std\": 10.719764945797545,\n        \"min\": 605.0999755859375,\n        \"max\": 643.4500122070312,\n        \"num_unique_values\": 20,\n        \"samples\": [\n          641.3499755859375,\n          612.75,\n          605.0999755859375\n        ],\n        \"semantic_type\": \"\",\n        \"description\": \"\"\n      }\n    },\n    {\n      \"column\": \"Forecast\",\n      \"properties\": {\n        \"dtype\": \"float32\",\n        \"num_unique_values\": 20,\n        \"samples\": [\n          619.3489379882812,\n          612.0468139648438,\n          607.8138427734375\n        ],\n        \"semantic_type\": \"\",\n        \"description\": \"\"\n      }\n    },\n    {\n      \"column\": \"Returns\",\n      \"properties\": {\n        \"dtype\": \"float32\",\n        \"num_unique_values\": 20,\n        \"samples\": [\n          641.3499755859375,\n          1.85943603515625,\n          3.0850830078125\n        ],\n        \"semantic_type\": \"\",\n        \"description\": \"\"\n      }\n    },\n    {\n      \"column\": \"Predicted\",\n      \"properties\": {\n        \"dtype\": \"float32\",\n        \"num_unique_values\": 20,\n        \"samples\": [\n          641.3499755859375,\n          634.0478515625,\n          629.8148803710938\n        ],\n        \"semantic_type\": \"\",\n        \"description\": \"\"\n      }\n    }\n  ]\n}"
            }
          },
          "metadata": {},
          "execution_count": 40
        }
      ]
    },
    {
      "cell_type": "code",
      "source": [
        "final_data.to_csv(f'/content/drive/MyDrive/Ph.D/Datasets/LSTM/comparison/{ticker}.csv')"
      ],
      "metadata": {
        "id": "ph0hCbNhlL8Y"
      },
      "execution_count": null,
      "outputs": []
    }
  ]
}