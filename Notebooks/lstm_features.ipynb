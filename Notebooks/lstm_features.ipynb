{
  "nbformat": 4,
  "nbformat_minor": 0,
  "metadata": {
    "colab": {
      "provenance": [],
      "gpuType": "T4"
    },
    "kernelspec": {
      "name": "python3",
      "display_name": "Python 3"
    },
    "language_info": {
      "name": "python"
    },
    "accelerator": "GPU"
  },
  "cells": [
    {
      "cell_type": "code",
      "source": [
        "import numpy as np\n",
        "import pandas as pd\n",
        "import matplotlib.pyplot as plt\n",
        "from sklearn.preprocessing import MinMaxScaler\n",
        "from keras.models import Sequential\n",
        "from keras.layers import Dense, LSTM, Dropout\n",
        "import yfinance as yf"
      ],
      "metadata": {
        "id": "8htf4HVQjy-R"
      },
      "execution_count": null,
      "outputs": []
    },
    {
      "cell_type": "code",
      "source": [
        "# Define the date range for data collection\n",
        "start = '2019-01-01'\n",
        "end = '2023-12-31'\n",
        "test_start = '2024-01-01'\n",
        "test_end = '2024-03-01'"
      ],
      "metadata": {
        "id": "Nxbg7kFXj1JW"
      },
      "execution_count": null,
      "outputs": []
    },
    {
      "cell_type": "code",
      "source": [
        "# Number of days to forecast\n",
        "forecast_days = 20\n",
        "\n",
        "# Define the list of tickers\n",
        "ticker = ['TECHM.NS', 'M&M.NS', 'WIPRO.NS', 'SBIN.NS', 'BAJFINANCE.NS', 'INFY.NS', 'KOTAKBANK.NS']"
      ],
      "metadata": {
        "id": "pRHNNMABj6Lq"
      },
      "execution_count": null,
      "outputs": []
    },
    {
      "cell_type": "code",
      "source": [
        "# Function to calculate technical indicators\n",
        "def add_technical_indicators(data):\n",
        "    # Simple Moving Average (SMA)\n",
        "    data['SMA'] = data['Close'].rolling(window=14).mean()\n",
        "\n",
        "    # Exponential Moving Average (EMA)\n",
        "    data['EMA'] = data['Close'].ewm(span=14, adjust=False).mean()\n",
        "\n",
        "    # Relative Strength Index (RSI)\n",
        "    delta = data['Close'].diff(1)\n",
        "    gain = delta.where(delta > 0, 0)\n",
        "    loss = -delta.where(delta < 0, 0)\n",
        "    avg_gain = gain.rolling(window=14, min_periods=1).mean()\n",
        "    avg_loss = loss.rolling(window=14, min_periods=1).mean()\n",
        "    rs = avg_gain / avg_loss\n",
        "    data['RSI'] = 100 - (100 / (1 + rs))\n",
        "\n",
        "    # Fill NaN values\n",
        "    data.fillna(method='bfill', inplace=True)\n",
        "    return data"
      ],
      "metadata": {
        "id": "rkn65aOSj9EQ"
      },
      "execution_count": null,
      "outputs": []
    },
    {
      "cell_type": "code",
      "execution_count": null,
      "metadata": {
        "colab": {
          "base_uri": "https://localhost:8080/"
        },
        "id": "D5UMz3uZjr93",
        "outputId": "53fb8378-15a0-4845-e078-6af233d170b2"
      },
      "outputs": [
        {
          "output_type": "stream",
          "name": "stderr",
          "text": [
            "\r[*********************100%***********************]  1 of 1 completed"
          ]
        },
        {
          "output_type": "stream",
          "name": "stdout",
          "text": [
            "Epoch 1/50\n"
          ]
        },
        {
          "output_type": "stream",
          "name": "stderr",
          "text": [
            "\n",
            "<ipython-input-4-b945e064feaa>:19: FutureWarning: DataFrame.fillna with 'method' is deprecated and will raise in a future version. Use obj.ffill() or obj.bfill() instead.\n",
            "  data.fillna(method='bfill', inplace=True)\n",
            "/usr/local/lib/python3.10/dist-packages/keras/src/layers/rnn/rnn.py:204: UserWarning: Do not pass an `input_shape`/`input_dim` argument to a layer. When using Sequential models, prefer using an `Input(shape)` object as the first layer in the model instead.\n",
            "  super().__init__(**kwargs)\n"
          ]
        },
        {
          "output_type": "stream",
          "name": "stdout",
          "text": [
            "\r\u001b[1m 1/37\u001b[0m \u001b[37m━━━━━━━━━━━━━━━━━━━━\u001b[0m \u001b[1m1:09\u001b[0m 2s/step - loss: 0.2971"
          ]
        }
      ],
      "source": [
        "for company in ticker:\n",
        "    # Download stock data\n",
        "    data = yf.download(company, start=start, end=end)\n",
        "\n",
        "    # Add technical indicators\n",
        "    data = add_technical_indicators(data)\n",
        "\n",
        "    # Select features: Closing price, SMA, EMA, RSI\n",
        "    features = data[['Close', 'SMA', 'EMA', 'RSI']].values\n",
        "\n",
        "    # Normalize features\n",
        "    scaler = MinMaxScaler(feature_range=(0, 1))\n",
        "    scaled_data = scaler.fit_transform(features)\n",
        "\n",
        "    # Prepare training data\n",
        "    X_train, y_train = [], []\n",
        "    for i in range(60, len(scaled_data) - forecast_days):\n",
        "        X_train.append(scaled_data[i-60:i])\n",
        "        y_train.append(scaled_data[i + forecast_days - 1, 0])  # Predict the future closing price\n",
        "\n",
        "    X_train, y_train = np.array(X_train), np.array(y_train)\n",
        "\n",
        "    # Reshape for LSTM\n",
        "    X_train = np.reshape(X_train, (X_train.shape[0], X_train.shape[1], X_train.shape[2]))\n",
        "\n",
        "    # Create the LSTM model\n",
        "    model = Sequential()\n",
        "    model.add(LSTM(units=50, return_sequences=True, input_shape=(X_train.shape[1], X_train.shape[2])))\n",
        "    model.add(Dropout(0.2))\n",
        "    model.add(LSTM(units=50, return_sequences=False))\n",
        "    model.add(Dropout(0.2))\n",
        "    model.add(Dense(units=1))  # Predicting the next price\n",
        "\n",
        "    # Compile and train the model\n",
        "    model.compile(optimizer='adam', loss='mean_squared_error')\n",
        "    model.fit(X_train, y_train, epochs=50, batch_size=32)\n",
        "\n",
        "    # Prepare testing data and make predictions\n",
        "    inputs = scaled_data[len(scaled_data) - len(data) - 60:].reshape(-1, scaled_data.shape[1])\n",
        "    X_test = []\n",
        "    for i in range(60, len(inputs)):\n",
        "        X_test.append(inputs[i-60:i])\n",
        "\n",
        "    X_test = np.array(X_test)\n",
        "\n",
        "    # Check the dimensions of X_test before reshaping\n",
        "    print(f\"Shape of X_test before reshaping: {X_test.shape}\")\n",
        "\n",
        "    # If X_test is 2D, reshape to 3D\n",
        "    if len(X_test.shape) == 2:\n",
        "        X_test = np.reshape(X_test, (X_test.shape[0], X_test.shape[1], 1))\n",
        "\n",
        "    # Now X_test should be 3D, compatible with LSTM input\n",
        "    print(f\"Shape of X_test after reshaping: {X_test.shape}\")\n",
        "    X_test = np.reshape(X_test, (X_test.shape[0], X_test.shape[1], X_test.shape[2]))\n",
        "\n",
        "    predicted_prices = model.predict(X_test)\n",
        "    predicted_prices = scaler.inverse_transform(np.hstack((predicted_prices, np.zeros((predicted_prices.shape[0], scaled_data.shape[1] - 1)))))[:, 0]  # Reverse scaling only for the first column (Close price)\n",
        "\n",
        "    # Download actual test data for comparison\n",
        "    compare_data = yf.download(company, start=test_start, end=test_end)\n",
        "    comp_data = compare_data['Close'].iloc[:forecast_days]\n",
        "    predicted_dates = comp_data.index[:forecast_days]\n",
        "\n",
        "    # Plotting results\n",
        "    plt.figure(figsize=(14, 5))\n",
        "    plt.plot(data.index[-60:], data['Close'].values[-60:], color='blue', label='Historical Prices')\n",
        "    plt.plot(predicted_dates, predicted_prices, color='red', label='Predicted Prices')\n",
        "    plt.title(f'Stock Price Prediction: {company}')\n",
        "    plt.xlabel('Date')\n",
        "    plt.ylabel('Stock Price')\n",
        "    plt.legend()\n",
        "    plt.show()\n"
      ]
    },
    {
      "cell_type": "code",
      "source": [
        "from google.colab import drive\n",
        "drive.mount('/content/drive')"
      ],
      "metadata": {
        "id": "LmCC9VerkjBV"
      },
      "execution_count": null,
      "outputs": []
    }
  ]
}